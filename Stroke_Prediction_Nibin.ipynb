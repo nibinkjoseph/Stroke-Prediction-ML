{
  "nbformat": 4,
  "nbformat_minor": 0,
  "metadata": {
    "colab": {
      "name": "Stroke Prediction Nibin.ipynb",
      "provenance": [],
      "collapsed_sections": [],
      "authorship_tag": "ABX9TyN1NkhkOkhV5gFZjCO4xuvK",
      "include_colab_link": true
    },
    "kernelspec": {
      "name": "python3",
      "display_name": "Python 3"
    },
    "accelerator": "GPU"
  },
  "cells": [
    {
      "cell_type": "markdown",
      "metadata": {
        "id": "view-in-github",
        "colab_type": "text"
      },
      "source": [
        "<a href=\"https://colab.research.google.com/github/nibinkjoseph/Stroke-Prediction-ML/blob/main/Stroke_Prediction_Nibin.ipynb\" target=\"_parent\"><img src=\"https://colab.research.google.com/assets/colab-badge.svg\" alt=\"Open In Colab\"/></a>"
      ]
    },
    {
      "cell_type": "code",
      "metadata": {
        "colab": {
          "base_uri": "https://localhost:8080/",
          "height": 122
        },
        "id": "7-H4zR3DmuNV",
        "outputId": "b87c4544-5631-4480-9d27-fb9fd7e6b824"
      },
      "source": [
        "\"\"\" id: unique identifier\r\n",
        "2) gender: \"Male\", \"Female\" or \"Other\"\r\n",
        "3) age: age of the patient\r\n",
        "4) hypertension: 0 if the patient doesn't have hypertension, 1 if the patient has hypertension\r\n",
        "5) heart_disease: 0 if the patient doesn't have any heart diseases, 1 if the patient has a heart disease\r\n",
        "6) ever_married: \"No\" or \"Yes\"\r\n",
        "7) work_type: \"children\", \"Govt_jov\", \"Never_worked\", \"Private\" or \"Self-employed\"\r\n",
        "8) Residence_type: \"Rural\" or \"Urban\"\r\n",
        "9) avg_glucose_level: average glucose level in blood\r\n",
        "10) bmi: body mass index\r\n",
        "11) smoking_status: \"formerly smoked\", \"never smoked\", \"smokes\" or \"Unknown\"*\r\n",
        "12) stroke: 1 if the patient had a stroke or 0 if not\r\n",
        "*Note: \"Unknown\" in smoking_status means that the information is unavailable for this patient\"\"\""
      ],
      "execution_count": 294,
      "outputs": [
        {
          "output_type": "execute_result",
          "data": {
            "application/vnd.google.colaboratory.intrinsic+json": {
              "type": "string"
            },
            "text/plain": [
              "' id: unique identifier\\n2) gender: \"Male\", \"Female\" or \"Other\"\\n3) age: age of the patient\\n4) hypertension: 0 if the patient doesn\\'t have hypertension, 1 if the patient has hypertension\\n5) heart_disease: 0 if the patient doesn\\'t have any heart diseases, 1 if the patient has a heart disease\\n6) ever_married: \"No\" or \"Yes\"\\n7) work_type: \"children\", \"Govt_jov\", \"Never_worked\", \"Private\" or \"Self-employed\"\\n8) Residence_type: \"Rural\" or \"Urban\"\\n9) avg_glucose_level: average glucose level in blood\\n10) bmi: body mass index\\n11) smoking_status: \"formerly smoked\", \"never smoked\", \"smokes\" or \"Unknown\"*\\n12) stroke: 1 if the patient had a stroke or 0 if not\\n*Note: \"Unknown\" in smoking_status means that the information is unavailable for this patient'"
            ]
          },
          "metadata": {
            "tags": []
          },
          "execution_count": 294
        }
      ]
    },
    {
      "cell_type": "code",
      "metadata": {
        "id": "x8M3fYPjYoXK"
      },
      "source": [
        "import pandas as pd\r\n",
        "import numpy as np\r\n",
        "import seaborn as sns\r\n",
        "import matplotlib.pyplot as plt\r\n",
        "\r\n",
        "\r\n",
        "import warnings\r\n",
        "warnings.simplefilter(\"ignore\")"
      ],
      "execution_count": 295,
      "outputs": []
    },
    {
      "cell_type": "code",
      "metadata": {
        "id": "_9S1HxfJY1sE"
      },
      "source": [
        "df= pd.read_csv(\"healthcare-dataset-stroke-data.csv\")"
      ],
      "execution_count": 296,
      "outputs": []
    },
    {
      "cell_type": "code",
      "metadata": {
        "colab": {
          "base_uri": "https://localhost:8080/",
          "height": 256
        },
        "id": "c5eS6lPkZIUS",
        "outputId": "82f3f79c-d2b4-4cb7-96f7-7f1bdf984f80"
      },
      "source": [
        "df.head(5)"
      ],
      "execution_count": 297,
      "outputs": [
        {
          "output_type": "execute_result",
          "data": {
            "text/html": [
              "<div>\n",
              "<style scoped>\n",
              "    .dataframe tbody tr th:only-of-type {\n",
              "        vertical-align: middle;\n",
              "    }\n",
              "\n",
              "    .dataframe tbody tr th {\n",
              "        vertical-align: top;\n",
              "    }\n",
              "\n",
              "    .dataframe thead th {\n",
              "        text-align: right;\n",
              "    }\n",
              "</style>\n",
              "<table border=\"1\" class=\"dataframe\">\n",
              "  <thead>\n",
              "    <tr style=\"text-align: right;\">\n",
              "      <th></th>\n",
              "      <th>id</th>\n",
              "      <th>gender</th>\n",
              "      <th>age</th>\n",
              "      <th>hypertension</th>\n",
              "      <th>heart_disease</th>\n",
              "      <th>ever_married</th>\n",
              "      <th>work_type</th>\n",
              "      <th>Residence_type</th>\n",
              "      <th>avg_glucose_level</th>\n",
              "      <th>bmi</th>\n",
              "      <th>smoking_status</th>\n",
              "      <th>stroke</th>\n",
              "    </tr>\n",
              "  </thead>\n",
              "  <tbody>\n",
              "    <tr>\n",
              "      <th>0</th>\n",
              "      <td>9046</td>\n",
              "      <td>Male</td>\n",
              "      <td>67.0</td>\n",
              "      <td>0</td>\n",
              "      <td>1</td>\n",
              "      <td>Yes</td>\n",
              "      <td>Private</td>\n",
              "      <td>Urban</td>\n",
              "      <td>228.69</td>\n",
              "      <td>36.6</td>\n",
              "      <td>formerly smoked</td>\n",
              "      <td>1</td>\n",
              "    </tr>\n",
              "    <tr>\n",
              "      <th>1</th>\n",
              "      <td>51676</td>\n",
              "      <td>Female</td>\n",
              "      <td>61.0</td>\n",
              "      <td>0</td>\n",
              "      <td>0</td>\n",
              "      <td>Yes</td>\n",
              "      <td>Self-employed</td>\n",
              "      <td>Rural</td>\n",
              "      <td>202.21</td>\n",
              "      <td>NaN</td>\n",
              "      <td>never smoked</td>\n",
              "      <td>1</td>\n",
              "    </tr>\n",
              "    <tr>\n",
              "      <th>2</th>\n",
              "      <td>31112</td>\n",
              "      <td>Male</td>\n",
              "      <td>80.0</td>\n",
              "      <td>0</td>\n",
              "      <td>1</td>\n",
              "      <td>Yes</td>\n",
              "      <td>Private</td>\n",
              "      <td>Rural</td>\n",
              "      <td>105.92</td>\n",
              "      <td>32.5</td>\n",
              "      <td>never smoked</td>\n",
              "      <td>1</td>\n",
              "    </tr>\n",
              "    <tr>\n",
              "      <th>3</th>\n",
              "      <td>60182</td>\n",
              "      <td>Female</td>\n",
              "      <td>49.0</td>\n",
              "      <td>0</td>\n",
              "      <td>0</td>\n",
              "      <td>Yes</td>\n",
              "      <td>Private</td>\n",
              "      <td>Urban</td>\n",
              "      <td>171.23</td>\n",
              "      <td>34.4</td>\n",
              "      <td>smokes</td>\n",
              "      <td>1</td>\n",
              "    </tr>\n",
              "    <tr>\n",
              "      <th>4</th>\n",
              "      <td>1665</td>\n",
              "      <td>Female</td>\n",
              "      <td>79.0</td>\n",
              "      <td>1</td>\n",
              "      <td>0</td>\n",
              "      <td>Yes</td>\n",
              "      <td>Self-employed</td>\n",
              "      <td>Rural</td>\n",
              "      <td>174.12</td>\n",
              "      <td>24.0</td>\n",
              "      <td>never smoked</td>\n",
              "      <td>1</td>\n",
              "    </tr>\n",
              "  </tbody>\n",
              "</table>\n",
              "</div>"
            ],
            "text/plain": [
              "      id  gender   age  ...   bmi   smoking_status stroke\n",
              "0   9046    Male  67.0  ...  36.6  formerly smoked      1\n",
              "1  51676  Female  61.0  ...   NaN     never smoked      1\n",
              "2  31112    Male  80.0  ...  32.5     never smoked      1\n",
              "3  60182  Female  49.0  ...  34.4           smokes      1\n",
              "4   1665  Female  79.0  ...  24.0     never smoked      1\n",
              "\n",
              "[5 rows x 12 columns]"
            ]
          },
          "metadata": {
            "tags": []
          },
          "execution_count": 297
        }
      ]
    },
    {
      "cell_type": "code",
      "metadata": {
        "colab": {
          "base_uri": "https://localhost:8080/",
          "height": 79
        },
        "id": "H4SKiBl9ADJ0",
        "outputId": "4887320d-26bc-4519-92d1-d89defe6999a"
      },
      "source": [
        "#Code to find numeric data\r\n",
        "numeric_data = df.select_dtypes(include = np.number)\r\n",
        "numeric_col = numeric_data.columns\r\n",
        "numeric_data.head(1)"
      ],
      "execution_count": 298,
      "outputs": [
        {
          "output_type": "execute_result",
          "data": {
            "text/html": [
              "<div>\n",
              "<style scoped>\n",
              "    .dataframe tbody tr th:only-of-type {\n",
              "        vertical-align: middle;\n",
              "    }\n",
              "\n",
              "    .dataframe tbody tr th {\n",
              "        vertical-align: top;\n",
              "    }\n",
              "\n",
              "    .dataframe thead th {\n",
              "        text-align: right;\n",
              "    }\n",
              "</style>\n",
              "<table border=\"1\" class=\"dataframe\">\n",
              "  <thead>\n",
              "    <tr style=\"text-align: right;\">\n",
              "      <th></th>\n",
              "      <th>id</th>\n",
              "      <th>age</th>\n",
              "      <th>hypertension</th>\n",
              "      <th>heart_disease</th>\n",
              "      <th>avg_glucose_level</th>\n",
              "      <th>bmi</th>\n",
              "      <th>stroke</th>\n",
              "    </tr>\n",
              "  </thead>\n",
              "  <tbody>\n",
              "    <tr>\n",
              "      <th>0</th>\n",
              "      <td>9046</td>\n",
              "      <td>67.0</td>\n",
              "      <td>0</td>\n",
              "      <td>1</td>\n",
              "      <td>228.69</td>\n",
              "      <td>36.6</td>\n",
              "      <td>1</td>\n",
              "    </tr>\n",
              "  </tbody>\n",
              "</table>\n",
              "</div>"
            ],
            "text/plain": [
              "     id   age  hypertension  heart_disease  avg_glucose_level   bmi  stroke\n",
              "0  9046  67.0             0              1             228.69  36.6       1"
            ]
          },
          "metadata": {
            "tags": []
          },
          "execution_count": 298
        }
      ]
    },
    {
      "cell_type": "code",
      "metadata": {
        "colab": {
          "base_uri": "https://localhost:8080/",
          "height": 79
        },
        "id": "_WS8HZbeAIjB",
        "outputId": "47de84e0-e584-4fa1-c364-d97c0c4ac35d"
      },
      "source": [
        "#code to find categorical data\r\n",
        "categorical_data = df.select_dtypes(exclude= np.number)\r\n",
        "categorical_col = categorical_data.columns\r\n",
        "categorical_data.head(1)"
      ],
      "execution_count": 299,
      "outputs": [
        {
          "output_type": "execute_result",
          "data": {
            "text/html": [
              "<div>\n",
              "<style scoped>\n",
              "    .dataframe tbody tr th:only-of-type {\n",
              "        vertical-align: middle;\n",
              "    }\n",
              "\n",
              "    .dataframe tbody tr th {\n",
              "        vertical-align: top;\n",
              "    }\n",
              "\n",
              "    .dataframe thead th {\n",
              "        text-align: right;\n",
              "    }\n",
              "</style>\n",
              "<table border=\"1\" class=\"dataframe\">\n",
              "  <thead>\n",
              "    <tr style=\"text-align: right;\">\n",
              "      <th></th>\n",
              "      <th>gender</th>\n",
              "      <th>ever_married</th>\n",
              "      <th>work_type</th>\n",
              "      <th>Residence_type</th>\n",
              "      <th>smoking_status</th>\n",
              "    </tr>\n",
              "  </thead>\n",
              "  <tbody>\n",
              "    <tr>\n",
              "      <th>0</th>\n",
              "      <td>Male</td>\n",
              "      <td>Yes</td>\n",
              "      <td>Private</td>\n",
              "      <td>Urban</td>\n",
              "      <td>formerly smoked</td>\n",
              "    </tr>\n",
              "  </tbody>\n",
              "</table>\n",
              "</div>"
            ],
            "text/plain": [
              "  gender ever_married work_type Residence_type   smoking_status\n",
              "0   Male          Yes   Private          Urban  formerly smoked"
            ]
          },
          "metadata": {
            "tags": []
          },
          "execution_count": 299
        }
      ]
    },
    {
      "cell_type": "code",
      "metadata": {
        "colab": {
          "base_uri": "https://localhost:8080/"
        },
        "id": "1z1S_Nu7MbWt",
        "outputId": "bb75ad49-01ea-4c96-e32b-aa2ffd53e1ee"
      },
      "source": [
        "#check how many unique categories each column has\r\n",
        "for col in df.columns:\r\n",
        "  print(col, ':', len(df[col].unique()), 'categories')"
      ],
      "execution_count": 300,
      "outputs": [
        {
          "output_type": "stream",
          "text": [
            "id : 5110 categories\n",
            "gender : 3 categories\n",
            "age : 104 categories\n",
            "hypertension : 2 categories\n",
            "heart_disease : 2 categories\n",
            "ever_married : 2 categories\n",
            "work_type : 5 categories\n",
            "Residence_type : 2 categories\n",
            "avg_glucose_level : 3979 categories\n",
            "bmi : 419 categories\n",
            "smoking_status : 4 categories\n",
            "stroke : 2 categories\n"
          ],
          "name": "stdout"
        }
      ]
    },
    {
      "cell_type": "code",
      "metadata": {
        "colab": {
          "base_uri": "https://localhost:8080/",
          "height": 295
        },
        "id": "wTVb4iN969kO",
        "outputId": "ff9f1e42-3cab-4ce2-f118-a7788807b359"
      },
      "source": [
        "plt.title('Missing Value Status',fontweight='bold')\r\n",
        "ax = sns.heatmap(df.isna().sum().to_frame(),annot=True,fmt='d',cmap=\"BuPu\")\r\n",
        "ax.set_xlabel('Amount Missing')\r\n",
        "plt.show()"
      ],
      "execution_count": 301,
      "outputs": [
        {
          "output_type": "display_data",
          "data": {
            "image/png": "[encoded data removed]",
            "text/plain": [
              "<Figure size 432x288 with 2 Axes>"
            ]
          },
          "metadata": {
            "tags": [],
            "needs_background": "light"
          }
        }
      ]
    },
    {
      "cell_type": "markdown",
      "metadata": {
        "id": "kZmZc1zJ9Nd1"
      },
      "source": [
        "201 missing rows in bmi feature"
      ]
    },
    {
      "cell_type": "code",
      "metadata": {
        "colab": {
          "base_uri": "https://localhost:8080/"
        },
        "id": "f51JcH2nb0LH",
        "outputId": "14daadfb-5ba5-428a-8dcb-b2f081fac6ae"
      },
      "source": [
        "#Just for learning purpose. Actually not needed.\r\n",
        "\r\n",
        "bmi_percent_null = (df['bmi'].isna().sum() / df.shape[0]) * 100\r\n",
        "bmi_percent_null"
      ],
      "execution_count": 302,
      "outputs": [
        {
          "output_type": "execute_result",
          "data": {
            "text/plain": [
              "3.9334637964774952"
            ]
          },
          "metadata": {
            "tags": []
          },
          "execution_count": 302
        }
      ]
    },
    {
      "cell_type": "code",
      "metadata": {
        "id": "gz5aBXzLrVhR"
      },
      "source": [
        "df['bmi'] = df['bmi'].fillna(df['bmi'].mean())"
      ],
      "execution_count": 303,
      "outputs": []
    },
    {
      "cell_type": "code",
      "metadata": {
        "colab": {
          "base_uri": "https://localhost:8080/"
        },
        "id": "GRtc61axZOBJ",
        "outputId": "018e3456-bee4-4155-b743-0afc67382887"
      },
      "source": [
        "df.shape"
      ],
      "execution_count": 304,
      "outputs": [
        {
          "output_type": "execute_result",
          "data": {
            "text/plain": [
              "(5110, 12)"
            ]
          },
          "metadata": {
            "tags": []
          },
          "execution_count": 304
        }
      ]
    },
    {
      "cell_type": "code",
      "metadata": {
        "colab": {
          "base_uri": "https://localhost:8080/",
          "height": 293
        },
        "id": "rYCW-T6PZRI5",
        "outputId": "a59a460c-788f-4779-f2d2-d70a13ac179f"
      },
      "source": [
        "df.describe()"
      ],
      "execution_count": 305,
      "outputs": [
        {
          "output_type": "execute_result",
          "data": {
            "text/html": [
              "<div>\n",
              "<style scoped>\n",
              "    .dataframe tbody tr th:only-of-type {\n",
              "        vertical-align: middle;\n",
              "    }\n",
              "\n",
              "    .dataframe tbody tr th {\n",
              "        vertical-align: top;\n",
              "    }\n",
              "\n",
              "    .dataframe thead th {\n",
              "        text-align: right;\n",
              "    }\n",
              "</style>\n",
              "<table border=\"1\" class=\"dataframe\">\n",
              "  <thead>\n",
              "    <tr style=\"text-align: right;\">\n",
              "      <th></th>\n",
              "      <th>id</th>\n",
              "      <th>age</th>\n",
              "      <th>hypertension</th>\n",
              "      <th>heart_disease</th>\n",
              "      <th>avg_glucose_level</th>\n",
              "      <th>bmi</th>\n",
              "      <th>stroke</th>\n",
              "    </tr>\n",
              "  </thead>\n",
              "  <tbody>\n",
              "    <tr>\n",
              "      <th>count</th>\n",
              "      <td>5110.000000</td>\n",
              "      <td>5110.000000</td>\n",
              "      <td>5110.000000</td>\n",
              "      <td>5110.000000</td>\n",
              "      <td>5110.000000</td>\n",
              "      <td>5110.000000</td>\n",
              "      <td>5110.000000</td>\n",
              "    </tr>\n",
              "    <tr>\n",
              "      <th>mean</th>\n",
              "      <td>36517.829354</td>\n",
              "      <td>43.226614</td>\n",
              "      <td>0.097456</td>\n",
              "      <td>0.054012</td>\n",
              "      <td>106.147677</td>\n",
              "      <td>28.893237</td>\n",
              "      <td>0.048728</td>\n",
              "    </tr>\n",
              "    <tr>\n",
              "      <th>std</th>\n",
              "      <td>21161.721625</td>\n",
              "      <td>22.612647</td>\n",
              "      <td>0.296607</td>\n",
              "      <td>0.226063</td>\n",
              "      <td>45.283560</td>\n",
              "      <td>7.698018</td>\n",
              "      <td>0.215320</td>\n",
              "    </tr>\n",
              "    <tr>\n",
              "      <th>min</th>\n",
              "      <td>67.000000</td>\n",
              "      <td>0.080000</td>\n",
              "      <td>0.000000</td>\n",
              "      <td>0.000000</td>\n",
              "      <td>55.120000</td>\n",
              "      <td>10.300000</td>\n",
              "      <td>0.000000</td>\n",
              "    </tr>\n",
              "    <tr>\n",
              "      <th>25%</th>\n",
              "      <td>17741.250000</td>\n",
              "      <td>25.000000</td>\n",
              "      <td>0.000000</td>\n",
              "      <td>0.000000</td>\n",
              "      <td>77.245000</td>\n",
              "      <td>23.800000</td>\n",
              "      <td>0.000000</td>\n",
              "    </tr>\n",
              "    <tr>\n",
              "      <th>50%</th>\n",
              "      <td>36932.000000</td>\n",
              "      <td>45.000000</td>\n",
              "      <td>0.000000</td>\n",
              "      <td>0.000000</td>\n",
              "      <td>91.885000</td>\n",
              "      <td>28.400000</td>\n",
              "      <td>0.000000</td>\n",
              "    </tr>\n",
              "    <tr>\n",
              "      <th>75%</th>\n",
              "      <td>54682.000000</td>\n",
              "      <td>61.000000</td>\n",
              "      <td>0.000000</td>\n",
              "      <td>0.000000</td>\n",
              "      <td>114.090000</td>\n",
              "      <td>32.800000</td>\n",
              "      <td>0.000000</td>\n",
              "    </tr>\n",
              "    <tr>\n",
              "      <th>max</th>\n",
              "      <td>72940.000000</td>\n",
              "      <td>82.000000</td>\n",
              "      <td>1.000000</td>\n",
              "      <td>1.000000</td>\n",
              "      <td>271.740000</td>\n",
              "      <td>97.600000</td>\n",
              "      <td>1.000000</td>\n",
              "    </tr>\n",
              "  </tbody>\n",
              "</table>\n",
              "</div>"
            ],
            "text/plain": [
              "                 id          age  ...          bmi       stroke\n",
              "count   5110.000000  5110.000000  ...  5110.000000  5110.000000\n",
              "mean   36517.829354    43.226614  ...    28.893237     0.048728\n",
              "std    21161.721625    22.612647  ...     7.698018     0.215320\n",
              "min       67.000000     0.080000  ...    10.300000     0.000000\n",
              "25%    17741.250000    25.000000  ...    23.800000     0.000000\n",
              "50%    36932.000000    45.000000  ...    28.400000     0.000000\n",
              "75%    54682.000000    61.000000  ...    32.800000     0.000000\n",
              "max    72940.000000    82.000000  ...    97.600000     1.000000\n",
              "\n",
              "[8 rows x 7 columns]"
            ]
          },
          "metadata": {
            "tags": []
          },
          "execution_count": 305
        }
      ]
    },
    {
      "cell_type": "code",
      "metadata": {
        "colab": {
          "base_uri": "https://localhost:8080/"
        },
        "id": "x6X8tX8TZTiX",
        "outputId": "1236f0b7-776f-4c3b-810a-641ea46a5c3d"
      },
      "source": [
        "df.info()"
      ],
      "execution_count": 306,
      "outputs": [
        {
          "output_type": "stream",
          "text": [
            "<class 'pandas.core.frame.DataFrame'>\n",
            "RangeIndex: 5110 entries, 0 to 5109\n",
            "Data columns (total 12 columns):\n",
            " #   Column             Non-Null Count  Dtype  \n",
            "---  ------             --------------  -----  \n",
            " 0   id                 5110 non-null   int64  \n",
            " 1   gender             5110 non-null   object \n",
            " 2   age                5110 non-null   float64\n",
            " 3   hypertension       5110 non-null   int64  \n",
            " 4   heart_disease      5110 non-null   int64  \n",
            " 5   ever_married       5110 non-null   object \n",
            " 6   work_type          5110 non-null   object \n",
            " 7   Residence_type     5110 non-null   object \n",
            " 8   avg_glucose_level  5110 non-null   float64\n",
            " 9   bmi                5110 non-null   float64\n",
            " 10  smoking_status     5110 non-null   object \n",
            " 11  stroke             5110 non-null   int64  \n",
            "dtypes: float64(3), int64(4), object(5)\n",
            "memory usage: 479.2+ KB\n"
          ],
          "name": "stdout"
        }
      ]
    },
    {
      "cell_type": "code",
      "metadata": {
        "colab": {
          "base_uri": "https://localhost:8080/"
        },
        "id": "IgV4GQFubeBV",
        "outputId": "8adc856a-e2d4-42f4-9ef9-c7fae7cec593"
      },
      "source": [
        "df.isnull().sum()"
      ],
      "execution_count": 307,
      "outputs": [
        {
          "output_type": "execute_result",
          "data": {
            "text/plain": [
              "id                   0\n",
              "gender               0\n",
              "age                  0\n",
              "hypertension         0\n",
              "heart_disease        0\n",
              "ever_married         0\n",
              "work_type            0\n",
              "Residence_type       0\n",
              "avg_glucose_level    0\n",
              "bmi                  0\n",
              "smoking_status       0\n",
              "stroke               0\n",
              "dtype: int64"
            ]
          },
          "metadata": {
            "tags": []
          },
          "execution_count": 307
        }
      ]
    },
    {
      "cell_type": "code",
      "metadata": {
        "colab": {
          "base_uri": "https://localhost:8080/"
        },
        "id": "0HThjIpY9htq",
        "outputId": "2df70893-1e9e-4155-f52b-74b419c59395"
      },
      "source": [
        "df['age'].min()  "
      ],
      "execution_count": 308,
      "outputs": [
        {
          "output_type": "execute_result",
          "data": {
            "text/plain": [
              "0.08"
            ]
          },
          "metadata": {
            "tags": []
          },
          "execution_count": 308
        }
      ]
    },
    {
      "cell_type": "markdown",
      "metadata": {
        "id": "k1f8TxXp9wLE"
      },
      "source": [
        "Doubt: Should we consider this age?"
      ]
    },
    {
      "cell_type": "code",
      "metadata": {
        "id": "vIGp70GQ9vdR"
      },
      "source": [
        ""
      ],
      "execution_count": 308,
      "outputs": []
    },
    {
      "cell_type": "code",
      "metadata": {
        "colab": {
          "base_uri": "https://localhost:8080/",
          "height": 349
        },
        "id": "zFCHECSkbgVI",
        "outputId": "eb514adb-4621-4d83-f62c-075d7ca51479"
      },
      "source": [
        "sns.countplot(df['gender'])\r\n",
        "df['gender'].value_counts()"
      ],
      "execution_count": 309,
      "outputs": [
        {
          "output_type": "execute_result",
          "data": {
            "text/plain": [
              "Female    2994\n",
              "Male      2115\n",
              "Other        1\n",
              "Name: gender, dtype: int64"
            ]
          },
          "metadata": {
            "tags": []
          },
          "execution_count": 309
        },
        {
          "output_type": "display_data",
          "data": {
            "image/png": "[encoded data removed]",
            "text/plain": [
              "<Figure size 432x288 with 1 Axes>"
            ]
          },
          "metadata": {
            "tags": [],
            "needs_background": "light"
          }
        }
      ]
    },
    {
      "cell_type": "code",
      "metadata": {
        "colab": {
          "base_uri": "https://localhost:8080/"
        },
        "id": "OKnBj4bdbhlm",
        "outputId": "24edd042-065d-4ced-e106-c91ce72be94f"
      },
      "source": [
        "df.columns"
      ],
      "execution_count": 310,
      "outputs": [
        {
          "output_type": "execute_result",
          "data": {
            "text/plain": [
              "Index(['id', 'gender', 'age', 'hypertension', 'heart_disease', 'ever_married',\n",
              "       'work_type', 'Residence_type', 'avg_glucose_level', 'bmi',\n",
              "       'smoking_status', 'stroke'],\n",
              "      dtype='object')"
            ]
          },
          "metadata": {
            "tags": []
          },
          "execution_count": 310
        }
      ]
    },
    {
      "cell_type": "code",
      "metadata": {
        "colab": {
          "base_uri": "https://localhost:8080/",
          "height": 488
        },
        "id": "06qKjTFfecSA",
        "outputId": "1db93918-5639-434d-8352-d416ef9e8bb0"
      },
      "source": [
        "sns.distplot(df['age'], bins=100);\r\n",
        "df['age'].value_counts()\r\n"
      ],
      "execution_count": 311,
      "outputs": [
        {
          "output_type": "execute_result",
          "data": {
            "text/plain": [
              "78.00    102\n",
              "57.00     95\n",
              "52.00     90\n",
              "54.00     87\n",
              "51.00     86\n",
              "        ... \n",
              "1.40       3\n",
              "0.48       3\n",
              "0.16       3\n",
              "0.08       2\n",
              "0.40       2\n",
              "Name: age, Length: 104, dtype: int64"
            ]
          },
          "metadata": {
            "tags": []
          },
          "execution_count": 311
        },
        {
          "output_type": "display_data",
          "data": {
            "image/png": "[encoded data removed]",
            "text/plain": [
              "<Figure size 432x288 with 1 Axes>"
            ]
          },
          "metadata": {
            "tags": [],
            "needs_background": "light"
          }
        }
      ]
    },
    {
      "cell_type": "code",
      "metadata": {
        "colab": {
          "base_uri": "https://localhost:8080/",
          "height": 367
        },
        "id": "cahgAJu_ecUu",
        "outputId": "c05e911b-5da4-4941-998e-11062a005e18"
      },
      "source": [
        "sns.countplot(df['smoking_status']);\r\n",
        "df['smoking_status'].value_counts()"
      ],
      "execution_count": 312,
      "outputs": [
        {
          "output_type": "execute_result",
          "data": {
            "text/plain": [
              "never smoked       1892\n",
              "Unknown            1544\n",
              "formerly smoked     885\n",
              "smokes              789\n",
              "Name: smoking_status, dtype: int64"
            ]
          },
          "metadata": {
            "tags": []
          },
          "execution_count": 312
        },
        {
          "output_type": "display_data",
          "data": {
            "image/png": "[encoded data removed]",
            "text/plain": [
              "<Figure size 432x288 with 1 Axes>"
            ]
          },
          "metadata": {
            "tags": [],
            "needs_background": "light"
          }
        }
      ]
    },
    {
      "cell_type": "markdown",
      "metadata": {
        "id": "xIUqYUSA-sQz"
      },
      "source": [
        "People who never smoked holds the maximum count"
      ]
    },
    {
      "cell_type": "code",
      "metadata": {
        "colab": {
          "base_uri": "https://localhost:8080/",
          "height": 335
        },
        "id": "MntFSjhrecXG",
        "outputId": "26d07873-0a30-4843-d3f1-d3bfac2a92ae"
      },
      "source": [
        "sns.countplot(df['ever_married']);\r\n",
        "df['ever_married'].value_counts()"
      ],
      "execution_count": 313,
      "outputs": [
        {
          "output_type": "execute_result",
          "data": {
            "text/plain": [
              "Yes    3353\n",
              "No     1757\n",
              "Name: ever_married, dtype: int64"
            ]
          },
          "metadata": {
            "tags": []
          },
          "execution_count": 313
        },
        {
          "output_type": "display_data",
          "data": {
            "image/png": "[encoded data removed]",
            "text/plain": [
              "<Figure size 432x288 with 1 Axes>"
            ]
          },
          "metadata": {
            "tags": [],
            "needs_background": "light"
          }
        }
      ]
    },
    {
      "cell_type": "code",
      "metadata": {
        "colab": {
          "base_uri": "https://localhost:8080/",
          "height": 332
        },
        "id": "9kKSrp8nbhoZ",
        "outputId": "8c7a0374-ecc6-47b8-8519-61578508c652"
      },
      "source": [
        "sns.countplot(df['Residence_type']);\r\n",
        "df['Residence_type'].value_counts()"
      ],
      "execution_count": 314,
      "outputs": [
        {
          "output_type": "execute_result",
          "data": {
            "text/plain": [
              "Urban    2596\n",
              "Rural    2514\n",
              "Name: Residence_type, dtype: int64"
            ]
          },
          "metadata": {
            "tags": []
          },
          "execution_count": 314
        },
        {
          "output_type": "display_data",
          "data": {
            "image/png": "[encoded data removed]",
            "text/plain": [
              "<Figure size 432x288 with 1 Axes>"
            ]
          },
          "metadata": {
            "tags": [],
            "needs_background": "light"
          }
        }
      ]
    },
    {
      "cell_type": "code",
      "metadata": {
        "colab": {
          "base_uri": "https://localhost:8080/",
          "height": 385
        },
        "id": "ecaojprLbhq6",
        "outputId": "36ebde0f-e4fb-4035-8b23-305a139c11f8"
      },
      "source": [
        "sns.countplot(df['work_type']);\r\n",
        "df['work_type'].value_counts()"
      ],
      "execution_count": 315,
      "outputs": [
        {
          "output_type": "execute_result",
          "data": {
            "text/plain": [
              "Private          2925\n",
              "Self-employed     819\n",
              "children          687\n",
              "Govt_job          657\n",
              "Never_worked       22\n",
              "Name: work_type, dtype: int64"
            ]
          },
          "metadata": {
            "tags": []
          },
          "execution_count": 315
        },
        {
          "output_type": "display_data",
          "data": {
            "image/png": "[encoded data removed]",
            "text/plain": [
              "<Figure size 432x288 with 1 Axes>"
            ]
          },
          "metadata": {
            "tags": [],
            "needs_background": "light"
          }
        }
      ]
    },
    {
      "cell_type": "code",
      "metadata": {
        "colab": {
          "base_uri": "https://localhost:8080/",
          "height": 279
        },
        "id": "-jbNBsivsXeF",
        "outputId": "52654b86-4183-4cea-d77f-0627ba9a340f"
      },
      "source": [
        "sns.countplot(df['hypertension']);\r\n"
      ],
      "execution_count": 316,
      "outputs": [
        {
          "output_type": "display_data",
          "data": {
            "image/png": "[encoded data removed]",
            "text/plain": [
              "<Figure size 432x288 with 1 Axes>"
            ]
          },
          "metadata": {
            "tags": [],
            "needs_background": "light"
          }
        }
      ]
    },
    {
      "cell_type": "code",
      "metadata": {
        "id": "3UDioaCjshIQ"
      },
      "source": [
        ""
      ],
      "execution_count": 316,
      "outputs": []
    },
    {
      "cell_type": "markdown",
      "metadata": {
        "id": "oI2IqaAnAO7z"
      },
      "source": [
        "###Outlier detection"
      ]
    },
    {
      "cell_type": "code",
      "metadata": {
        "id": "Z8kxtbqm3ubo"
      },
      "source": [
        "\r\n",
        "#For bmi"
      ],
      "execution_count": 317,
      "outputs": []
    },
    {
      "cell_type": "code",
      "metadata": {
        "colab": {
          "base_uri": "https://localhost:8080/",
          "height": 442
        },
        "id": "WoONuiDX3xH8",
        "outputId": "be59b81d-1066-4ccd-e1e9-728730fb8432"
      },
      "source": [
        "plt.figure(figsize=(10,7))\r\n",
        "sns.boxplot(data=df,x=df[\"bmi\"],color='green');"
      ],
      "execution_count": 318,
      "outputs": [
        {
          "output_type": "display_data",
          "data": {
            "image/png": "[encoded data removed]",
            "text/plain": [
              "<Figure size 720x504 with 1 Axes>"
            ]
          },
          "metadata": {
            "tags": [],
            "needs_background": "light"
          }
        }
      ]
    },
    {
      "cell_type": "code",
      "metadata": {
        "id": "dqWtIiUkspno"
      },
      "source": [
        "def outliers(df, variable, distance):\r\n",
        "     IQR = df[variable].quantile(0.75) - df[variable].quantile(0.25)\r\n",
        "     lower_boundary = df[variable].quantile(0.25) - (IQR * distance)\r\n",
        "     upper_boundary = df[variable].quantile(0.75) + (IQR * distance) \r\n",
        "        \r\n",
        "     return upper_boundary, lower_boundary\r\n"
      ],
      "execution_count": 319,
      "outputs": []
    },
    {
      "cell_type": "code",
      "metadata": {
        "colab": {
          "base_uri": "https://localhost:8080/"
        },
        "id": "04kv_QzKtjo1",
        "outputId": "dcdd6023-8217-4ff1-8215-2165186b67ea"
      },
      "source": [
        "upper_limit, lower_limit = outliers(df, \"bmi\", 1.5)\r\n",
        "upper_limit, lower_limit"
      ],
      "execution_count": 320,
      "outputs": [
        {
          "output_type": "execute_result",
          "data": {
            "text/plain": [
              "(46.29999999999999, 10.300000000000006)"
            ]
          },
          "metadata": {
            "tags": []
          },
          "execution_count": 320
        }
      ]
    },
    {
      "cell_type": "code",
      "metadata": {
        "colab": {
          "base_uri": "https://localhost:8080/"
        },
        "id": "lRhlKpqs4dvO",
        "outputId": "80a710f6-c807-4eca-e4ba-f68865422e9a"
      },
      "source": [
        "outliers_bmi=df.loc[df['bmi']>50]\r\n",
        "outliers_bmi['bmi'].shape"
      ],
      "execution_count": 321,
      "outputs": [
        {
          "output_type": "execute_result",
          "data": {
            "text/plain": [
              "(79,)"
            ]
          },
          "metadata": {
            "tags": []
          },
          "execution_count": 321
        }
      ]
    },
    {
      "cell_type": "code",
      "metadata": {
        "id": "vG_i6eSL5QLa",
        "colab": {
          "base_uri": "https://localhost:8080/"
        },
        "outputId": "1802e179-e8da-40df-d539-64a505eee004"
      },
      "source": [
        "#so bmi with outlier\r\n",
        "outliers_bmi['stroke'].value_counts()\r\n"
      ],
      "execution_count": 322,
      "outputs": [
        {
          "output_type": "execute_result",
          "data": {
            "text/plain": [
              "0    78\n",
              "1     1\n",
              "Name: stroke, dtype: int64"
            ]
          },
          "metadata": {
            "tags": []
          },
          "execution_count": 322
        }
      ]
    },
    {
      "cell_type": "code",
      "metadata": {
        "id": "-OUKtU13YjmU"
      },
      "source": [
        "#Applying lambda function to fill bmi to 50 when bmi given is greater than 50 else same.\r\n",
        "\r\n",
        "\r\n",
        "\r\n",
        "\r\n",
        "df[\"bmi\"] = df[\"bmi\"].apply(lambda x: 50 if x>50 else x)\r\n",
        "\r\n",
        "# null values in BMI (replaced with mean) \r\n",
        "df[\"bmi\"] = df[\"bmi\"].fillna(df['bmi'].mean())\r\n"
      ],
      "execution_count": 323,
      "outputs": []
    },
    {
      "cell_type": "code",
      "metadata": {
        "id": "MT7JlJflS2uO",
        "colab": {
          "base_uri": "https://localhost:8080/",
          "height": 279
        },
        "outputId": "549b97ed-476d-4a28-a6a4-0f585c91ba28"
      },
      "source": [
        "sns.boxplot(data=df,x=df[\"bmi\"],color='green');"
      ],
      "execution_count": 324,
      "outputs": [
        {
          "output_type": "display_data",
          "data": {
            "image/png": "[encoded data removed]",
            "text/plain": [
              "<Figure size 432x288 with 1 Axes>"
            ]
          },
          "metadata": {
            "tags": [],
            "needs_background": "light"
          }
        }
      ]
    },
    {
      "cell_type": "markdown",
      "metadata": {
        "id": "cAZn-6rWAXyp"
      },
      "source": [
        "###According to the National Institutes of Health (NIH): A BMI of less than 18.5 means that a person is underweight. A BMI of between 18.5 and 24.9 is ideal. A BMI of between 25 and 29.9 is overweight."
      ]
    },
    {
      "cell_type": "code",
      "metadata": {
        "colab": {
          "base_uri": "https://localhost:8080/",
          "height": 480
        },
        "id": "eUilEHytti7C",
        "outputId": "96e4f8a0-4846-4272-9212-9b1e5a91d032"
      },
      "source": [
        "plt.figure(figsize=(7,7))\r\n",
        "df['stroke'].value_counts().plot.pie(autopct='%1.1f%%', colors = ['grey', 'b'])\r\n",
        "plt.title(\"Stroke status\", fontdict={'fontsize': 14})\r\n",
        "\r\n",
        "df[\"stroke\"].value_counts()"
      ],
      "execution_count": 325,
      "outputs": [
        {
          "output_type": "execute_result",
          "data": {
            "text/plain": [
              "0    4861\n",
              "1     249\n",
              "Name: stroke, dtype: int64"
            ]
          },
          "metadata": {
            "tags": []
          },
          "execution_count": 325
        },
        {
          "output_type": "display_data",
          "data": {
            "image/png": "[encoded data removed]",
            "text/plain": [
              "<Figure size 504x504 with 1 Axes>"
            ]
          },
          "metadata": {
            "tags": []
          }
        }
      ]
    },
    {
      "cell_type": "markdown",
      "metadata": {
        "id": "_kUpBkn4AtqW"
      },
      "source": [
        "Only 4.9% of people had stroke"
      ]
    },
    {
      "cell_type": "code",
      "metadata": {
        "id": "VyhDTuJVth-B",
        "colab": {
          "base_uri": "https://localhost:8080/",
          "height": 333
        },
        "outputId": "52bfeb1e-084a-4d85-95b4-dc622a95a145"
      },
      "source": [
        "sns.countplot(df['heart_disease']);\r\n",
        "df['heart_disease'].value_counts()"
      ],
      "execution_count": 326,
      "outputs": [
        {
          "output_type": "execute_result",
          "data": {
            "text/plain": [
              "0    4834\n",
              "1     276\n",
              "Name: heart_disease, dtype: int64"
            ]
          },
          "metadata": {
            "tags": []
          },
          "execution_count": 326
        },
        {
          "output_type": "display_data",
          "data": {
            "image/png": "[encoded data removed]",
            "text/plain": [
              "<Figure size 432x288 with 1 Axes>"
            ]
          },
          "metadata": {
            "tags": [],
            "needs_background": "light"
          }
        }
      ]
    },
    {
      "cell_type": "code",
      "metadata": {
        "id": "XvWOqTVotiDM",
        "colab": {
          "base_uri": "https://localhost:8080/",
          "height": 297
        },
        "outputId": "13d9436e-4aa3-4c5f-bc02-275a754b2efd"
      },
      "source": [
        "sns.lineplot(x='age', y='stroke', data=df)"
      ],
      "execution_count": 327,
      "outputs": [
        {
          "output_type": "execute_result",
          "data": {
            "text/plain": [
              "<matplotlib.axes._subplots.AxesSubplot at 0x7efe62a19668>"
            ]
          },
          "metadata": {
            "tags": []
          },
          "execution_count": 327
        },
        {
          "output_type": "display_data",
          "data": {
            "image/png": "[encoded data removed]",
            "text/plain": [
              "<Figure size 432x288 with 1 Axes>"
            ]
          },
          "metadata": {
            "tags": [],
            "needs_background": "light"
          }
        }
      ]
    },
    {
      "cell_type": "markdown",
      "metadata": {
        "id": "VHJr3HLjBLuq"
      },
      "source": [
        "People between the age of 60 and 80 has the high chance of getting stroke"
      ]
    },
    {
      "cell_type": "code",
      "metadata": {
        "id": "zD3oR16GtSDH",
        "colab": {
          "base_uri": "https://localhost:8080/",
          "height": 297
        },
        "outputId": "503ecab6-c050-4457-80f5-20eae116a7fc"
      },
      "source": [
        "plt.subplot(1,2,2)\r\n",
        "sns.countplot(df['gender'], hue= df['stroke'])"
      ],
      "execution_count": 328,
      "outputs": [
        {
          "output_type": "execute_result",
          "data": {
            "text/plain": [
              "<matplotlib.axes._subplots.AxesSubplot at 0x7efe63165e48>"
            ]
          },
          "metadata": {
            "tags": []
          },
          "execution_count": 328
        },
        {
          "output_type": "display_data",
          "data": {
            "image/png": "[encoded data removed]",
            "text/plain": [
              "<Figure size 432x288 with 1 Axes>"
            ]
          },
          "metadata": {
            "tags": [],
            "needs_background": "light"
          }
        }
      ]
    },
    {
      "cell_type": "code",
      "metadata": {
        "colab": {
          "base_uri": "https://localhost:8080/",
          "height": 297
        },
        "id": "CJ-0dEtD0RbS",
        "outputId": "21365b69-f4e7-475b-c2c4-7c69092788e5"
      },
      "source": [
        "\r\n",
        "sns.countplot(df['hypertension'], hue= df['stroke'])"
      ],
      "execution_count": 329,
      "outputs": [
        {
          "output_type": "execute_result",
          "data": {
            "text/plain": [
              "<matplotlib.axes._subplots.AxesSubplot at 0x7efe62f76470>"
            ]
          },
          "metadata": {
            "tags": []
          },
          "execution_count": 329
        },
        {
          "output_type": "display_data",
          "data": {
            "image/png": "[encoded data removed]",
            "text/plain": [
              "<Figure size 432x288 with 1 Axes>"
            ]
          },
          "metadata": {
            "tags": [],
            "needs_background": "light"
          }
        }
      ]
    },
    {
      "cell_type": "code",
      "metadata": {
        "colab": {
          "base_uri": "https://localhost:8080/",
          "height": 297
        },
        "id": "3sAnD5ic0jX3",
        "outputId": "8719f3f3-6561-4cad-cc7f-685fca1e3b85"
      },
      "source": [
        "plt.subplot(1,2,2)\r\n",
        "sns.countplot(df['heart_disease'], hue= df['stroke'])"
      ],
      "execution_count": 330,
      "outputs": [
        {
          "output_type": "execute_result",
          "data": {
            "text/plain": [
              "<matplotlib.axes._subplots.AxesSubplot at 0x7efe63495da0>"
            ]
          },
          "metadata": {
            "tags": []
          },
          "execution_count": 330
        },
        {
          "output_type": "display_data",
          "data": {
            "image/png": "[encoded data removed]",
            "text/plain": [
              "<Figure size 432x288 with 1 Axes>"
            ]
          },
          "metadata": {
            "tags": [],
            "needs_background": "light"
          }
        }
      ]
    },
    {
      "cell_type": "markdown",
      "metadata": {
        "id": "39L9FMAkByIl"
      },
      "source": [
        "People with no heart disease has very high chance of not receiving a stroke."
      ]
    },
    {
      "cell_type": "code",
      "metadata": {
        "colab": {
          "base_uri": "https://localhost:8080/",
          "height": 332
        },
        "id": "FVpnllq70vBH",
        "outputId": "02981175-7e58-4d64-91da-191d5c48f78f"
      },
      "source": [
        "plt.subplot(1,2,2)\r\n",
        "sns.countplot(df['ever_married'], hue= df['stroke'])\r\n",
        "\r\n",
        "df['ever_married'].value_counts()"
      ],
      "execution_count": 331,
      "outputs": [
        {
          "output_type": "execute_result",
          "data": {
            "text/plain": [
              "Yes    3353\n",
              "No     1757\n",
              "Name: ever_married, dtype: int64"
            ]
          },
          "metadata": {
            "tags": []
          },
          "execution_count": 331
        },
        {
          "output_type": "display_data",
          "data": {
            "image/png": "[encoded data removed]",
            "text/plain": [
              "<Figure size 432x288 with 1 Axes>"
            ]
          },
          "metadata": {
            "tags": [],
            "needs_background": "light"
          }
        }
      ]
    },
    {
      "cell_type": "markdown",
      "metadata": {
        "id": "KINJeCntCSh8"
      },
      "source": [
        "Unmarried people has less chance of getting stroke "
      ]
    },
    {
      "cell_type": "code",
      "metadata": {
        "colab": {
          "base_uri": "https://localhost:8080/",
          "height": 298
        },
        "id": "6b-MqCZ_1CLv",
        "outputId": "ef8815ad-9467-4cb8-fc0e-225340002424"
      },
      "source": [
        "sns.countplot(x=\"work_type\", hue= df['stroke'], data=df)"
      ],
      "execution_count": 332,
      "outputs": [
        {
          "output_type": "execute_result",
          "data": {
            "text/plain": [
              "<matplotlib.axes._subplots.AxesSubplot at 0x7efe634d5be0>"
            ]
          },
          "metadata": {
            "tags": []
          },
          "execution_count": 332
        },
        {
          "output_type": "display_data",
          "data": {
            "image/png": "[encoded data removed]",
            "text/plain": [
              "<Figure size 432x288 with 1 Axes>"
            ]
          },
          "metadata": {
            "tags": [],
            "needs_background": "light"
          }
        }
      ]
    },
    {
      "cell_type": "code",
      "metadata": {
        "colab": {
          "base_uri": "https://localhost:8080/",
          "height": 297
        },
        "id": "9QDaQmu11atf",
        "outputId": "05debb5a-cb9b-4f0b-b34e-296bca10a1d9"
      },
      "source": [
        "sns.countplot(x=\"Residence_type\", hue= df['stroke'], data=df)"
      ],
      "execution_count": 333,
      "outputs": [
        {
          "output_type": "execute_result",
          "data": {
            "text/plain": [
              "<matplotlib.axes._subplots.AxesSubplot at 0x7efe6264d4e0>"
            ]
          },
          "metadata": {
            "tags": []
          },
          "execution_count": 333
        },
        {
          "output_type": "display_data",
          "data": {
            "image/png": "[encoded data removed]",
            "text/plain": [
              "<Figure size 432x288 with 1 Axes>"
            ]
          },
          "metadata": {
            "tags": [],
            "needs_background": "light"
          }
        }
      ]
    },
    {
      "cell_type": "markdown",
      "metadata": {
        "id": "RqvwDrecDdGj"
      },
      "source": [
        "There is no much difference in people who may receive or not receive depending on their residence type that is Rural or Urban."
      ]
    },
    {
      "cell_type": "code",
      "metadata": {
        "id": "wTmTzMVnO7F6"
      },
      "source": [
        ""
      ],
      "execution_count": 333,
      "outputs": []
    },
    {
      "cell_type": "markdown",
      "metadata": {
        "id": "Z-5hoaflUBbT"
      },
      "source": [
        "#Data Preprocessing"
      ]
    },
    {
      "cell_type": "code",
      "metadata": {
        "colab": {
          "base_uri": "https://localhost:8080/",
          "height": 256
        },
        "id": "tQ11F35JUDxb",
        "outputId": "d6e55167-ba1e-442c-f1bd-db9a3263a2fd"
      },
      "source": [
        "df.head(5)"
      ],
      "execution_count": 334,
      "outputs": [
        {
          "output_type": "execute_result",
          "data": {
            "text/html": [
              "<div>\n",
              "<style scoped>\n",
              "    .dataframe tbody tr th:only-of-type {\n",
              "        vertical-align: middle;\n",
              "    }\n",
              "\n",
              "    .dataframe tbody tr th {\n",
              "        vertical-align: top;\n",
              "    }\n",
              "\n",
              "    .dataframe thead th {\n",
              "        text-align: right;\n",
              "    }\n",
              "</style>\n",
              "<table border=\"1\" class=\"dataframe\">\n",
              "  <thead>\n",
              "    <tr style=\"text-align: right;\">\n",
              "      <th></th>\n",
              "      <th>id</th>\n",
              "      <th>gender</th>\n",
              "      <th>age</th>\n",
              "      <th>hypertension</th>\n",
              "      <th>heart_disease</th>\n",
              "      <th>ever_married</th>\n",
              "      <th>work_type</th>\n",
              "      <th>Residence_type</th>\n",
              "      <th>avg_glucose_level</th>\n",
              "      <th>bmi</th>\n",
              "      <th>smoking_status</th>\n",
              "      <th>stroke</th>\n",
              "    </tr>\n",
              "  </thead>\n",
              "  <tbody>\n",
              "    <tr>\n",
              "      <th>0</th>\n",
              "      <td>9046</td>\n",
              "      <td>Male</td>\n",
              "      <td>67.0</td>\n",
              "      <td>0</td>\n",
              "      <td>1</td>\n",
              "      <td>Yes</td>\n",
              "      <td>Private</td>\n",
              "      <td>Urban</td>\n",
              "      <td>228.69</td>\n",
              "      <td>36.600000</td>\n",
              "      <td>formerly smoked</td>\n",
              "      <td>1</td>\n",
              "    </tr>\n",
              "    <tr>\n",
              "      <th>1</th>\n",
              "      <td>51676</td>\n",
              "      <td>Female</td>\n",
              "      <td>61.0</td>\n",
              "      <td>0</td>\n",
              "      <td>0</td>\n",
              "      <td>Yes</td>\n",
              "      <td>Self-employed</td>\n",
              "      <td>Rural</td>\n",
              "      <td>202.21</td>\n",
              "      <td>28.893237</td>\n",
              "      <td>never smoked</td>\n",
              "      <td>1</td>\n",
              "    </tr>\n",
              "    <tr>\n",
              "      <th>2</th>\n",
              "      <td>31112</td>\n",
              "      <td>Male</td>\n",
              "      <td>80.0</td>\n",
              "      <td>0</td>\n",
              "      <td>1</td>\n",
              "      <td>Yes</td>\n",
              "      <td>Private</td>\n",
              "      <td>Rural</td>\n",
              "      <td>105.92</td>\n",
              "      <td>32.500000</td>\n",
              "      <td>never smoked</td>\n",
              "      <td>1</td>\n",
              "    </tr>\n",
              "    <tr>\n",
              "      <th>3</th>\n",
              "      <td>60182</td>\n",
              "      <td>Female</td>\n",
              "      <td>49.0</td>\n",
              "      <td>0</td>\n",
              "      <td>0</td>\n",
              "      <td>Yes</td>\n",
              "      <td>Private</td>\n",
              "      <td>Urban</td>\n",
              "      <td>171.23</td>\n",
              "      <td>34.400000</td>\n",
              "      <td>smokes</td>\n",
              "      <td>1</td>\n",
              "    </tr>\n",
              "    <tr>\n",
              "      <th>4</th>\n",
              "      <td>1665</td>\n",
              "      <td>Female</td>\n",
              "      <td>79.0</td>\n",
              "      <td>1</td>\n",
              "      <td>0</td>\n",
              "      <td>Yes</td>\n",
              "      <td>Self-employed</td>\n",
              "      <td>Rural</td>\n",
              "      <td>174.12</td>\n",
              "      <td>24.000000</td>\n",
              "      <td>never smoked</td>\n",
              "      <td>1</td>\n",
              "    </tr>\n",
              "  </tbody>\n",
              "</table>\n",
              "</div>"
            ],
            "text/plain": [
              "      id  gender   age  ...        bmi   smoking_status stroke\n",
              "0   9046    Male  67.0  ...  36.600000  formerly smoked      1\n",
              "1  51676  Female  61.0  ...  28.893237     never smoked      1\n",
              "2  31112    Male  80.0  ...  32.500000     never smoked      1\n",
              "3  60182  Female  49.0  ...  34.400000           smokes      1\n",
              "4   1665  Female  79.0  ...  24.000000     never smoked      1\n",
              "\n",
              "[5 rows x 12 columns]"
            ]
          },
          "metadata": {
            "tags": []
          },
          "execution_count": 334
        }
      ]
    },
    {
      "cell_type": "code",
      "metadata": {
        "id": "KxJnRZvNvska"
      },
      "source": [
        "categorical_variable= df.select_dtypes(include=['object']).columns.tolist()"
      ],
      "execution_count": 335,
      "outputs": []
    },
    {
      "cell_type": "code",
      "metadata": {
        "colab": {
          "base_uri": "https://localhost:8080/"
        },
        "id": "r65trRc7v2By",
        "outputId": "9e0b71a4-b56f-4b9c-adc9-6a4ffeb0baaa"
      },
      "source": [
        "categorical_variable"
      ],
      "execution_count": 336,
      "outputs": [
        {
          "output_type": "execute_result",
          "data": {
            "text/plain": [
              "['gender', 'ever_married', 'work_type', 'Residence_type', 'smoking_status']"
            ]
          },
          "metadata": {
            "tags": []
          },
          "execution_count": 336
        }
      ]
    },
    {
      "cell_type": "code",
      "metadata": {
        "colab": {
          "base_uri": "https://localhost:8080/"
        },
        "id": "clAGNsRPwLXK",
        "outputId": "0c379cc0-3e89-46ed-ecb9-00bc012ad4b8"
      },
      "source": [
        "print(\"Gender\", df['gender'].unique())\r\n",
        "print(\"Ever_married\",df['ever_married'].unique())\r\n",
        "print(\"worktype\",df['work_type'].unique())\r\n",
        "print(\"residence_type\", df['Residence_type'].unique())\r\n",
        "print(\"smaokingstatus\", df['smoking_status'].unique())"
      ],
      "execution_count": 337,
      "outputs": [
        {
          "output_type": "stream",
          "text": [
            "Gender ['Male' 'Female' 'Other']\n",
            "Ever_married ['Yes' 'No']\n",
            "worktype ['Private' 'Self-employed' 'Govt_job' 'children' 'Never_worked']\n",
            "residence_type ['Urban' 'Rural']\n",
            "smaokingstatus ['formerly smoked' 'never smoked' 'smokes' 'Unknown']\n"
          ],
          "name": "stdout"
        }
      ]
    },
    {
      "cell_type": "code",
      "metadata": {
        "id": "d-FCc6T0w68L"
      },
      "source": [
        ""
      ],
      "execution_count": 337,
      "outputs": []
    },
    {
      "cell_type": "markdown",
      "metadata": {
        "id": "8xIINSsKym6F"
      },
      "source": [
        "###The conversion of categorical data into numerical data is called Categorical Encoding."
      ]
    },
    {
      "cell_type": "markdown",
      "metadata": {
        "id": "8Ms6eJTLzGUX"
      },
      "source": [
        "Label Encoding"
      ]
    },
    {
      "cell_type": "code",
      "metadata": {
        "id": "3C1BJheTynob"
      },
      "source": [
        "from sklearn import preprocessing \r\n",
        "le = preprocessing.LabelEncoder()\r\n",
        "df['gender'] = le.fit_transform(df['gender'])\r\n",
        "df['ever_married'] = le.fit_transform(df['ever_married'])\r\n",
        "df['work_type'] = le.fit_transform(df['work_type'])\r\n",
        "df['Residence_type'] = le.fit_transform(df['Residence_type'])\r\n",
        "df['smoking_status'] = le.fit_transform(df['smoking_status'])\r\n"
      ],
      "execution_count": 338,
      "outputs": []
    },
    {
      "cell_type": "code",
      "metadata": {
        "id": "YiH9X8AhzlJg"
      },
      "source": [
        "#So label encoding is done"
      ],
      "execution_count": 339,
      "outputs": []
    },
    {
      "cell_type": "code",
      "metadata": {
        "colab": {
          "base_uri": "https://localhost:8080/",
          "height": 222
        },
        "id": "r135vdLKzt7R",
        "outputId": "e93ad3a1-8be2-4584-c5f5-a83913737f0f"
      },
      "source": [
        "df.head()"
      ],
      "execution_count": 340,
      "outputs": [
        {
          "output_type": "execute_result",
          "data": {
            "text/html": [
              "<div>\n",
              "<style scoped>\n",
              "    .dataframe tbody tr th:only-of-type {\n",
              "        vertical-align: middle;\n",
              "    }\n",
              "\n",
              "    .dataframe tbody tr th {\n",
              "        vertical-align: top;\n",
              "    }\n",
              "\n",
              "    .dataframe thead th {\n",
              "        text-align: right;\n",
              "    }\n",
              "</style>\n",
              "<table border=\"1\" class=\"dataframe\">\n",
              "  <thead>\n",
              "    <tr style=\"text-align: right;\">\n",
              "      <th></th>\n",
              "      <th>id</th>\n",
              "      <th>gender</th>\n",
              "      <th>age</th>\n",
              "      <th>hypertension</th>\n",
              "      <th>heart_disease</th>\n",
              "      <th>ever_married</th>\n",
              "      <th>work_type</th>\n",
              "      <th>Residence_type</th>\n",
              "      <th>avg_glucose_level</th>\n",
              "      <th>bmi</th>\n",
              "      <th>smoking_status</th>\n",
              "      <th>stroke</th>\n",
              "    </tr>\n",
              "  </thead>\n",
              "  <tbody>\n",
              "    <tr>\n",
              "      <th>0</th>\n",
              "      <td>9046</td>\n",
              "      <td>1</td>\n",
              "      <td>67.0</td>\n",
              "      <td>0</td>\n",
              "      <td>1</td>\n",
              "      <td>1</td>\n",
              "      <td>2</td>\n",
              "      <td>1</td>\n",
              "      <td>228.69</td>\n",
              "      <td>36.600000</td>\n",
              "      <td>1</td>\n",
              "      <td>1</td>\n",
              "    </tr>\n",
              "    <tr>\n",
              "      <th>1</th>\n",
              "      <td>51676</td>\n",
              "      <td>0</td>\n",
              "      <td>61.0</td>\n",
              "      <td>0</td>\n",
              "      <td>0</td>\n",
              "      <td>1</td>\n",
              "      <td>3</td>\n",
              "      <td>0</td>\n",
              "      <td>202.21</td>\n",
              "      <td>28.893237</td>\n",
              "      <td>2</td>\n",
              "      <td>1</td>\n",
              "    </tr>\n",
              "    <tr>\n",
              "      <th>2</th>\n",
              "      <td>31112</td>\n",
              "      <td>1</td>\n",
              "      <td>80.0</td>\n",
              "      <td>0</td>\n",
              "      <td>1</td>\n",
              "      <td>1</td>\n",
              "      <td>2</td>\n",
              "      <td>0</td>\n",
              "      <td>105.92</td>\n",
              "      <td>32.500000</td>\n",
              "      <td>2</td>\n",
              "      <td>1</td>\n",
              "    </tr>\n",
              "    <tr>\n",
              "      <th>3</th>\n",
              "      <td>60182</td>\n",
              "      <td>0</td>\n",
              "      <td>49.0</td>\n",
              "      <td>0</td>\n",
              "      <td>0</td>\n",
              "      <td>1</td>\n",
              "      <td>2</td>\n",
              "      <td>1</td>\n",
              "      <td>171.23</td>\n",
              "      <td>34.400000</td>\n",
              "      <td>3</td>\n",
              "      <td>1</td>\n",
              "    </tr>\n",
              "    <tr>\n",
              "      <th>4</th>\n",
              "      <td>1665</td>\n",
              "      <td>0</td>\n",
              "      <td>79.0</td>\n",
              "      <td>1</td>\n",
              "      <td>0</td>\n",
              "      <td>1</td>\n",
              "      <td>3</td>\n",
              "      <td>0</td>\n",
              "      <td>174.12</td>\n",
              "      <td>24.000000</td>\n",
              "      <td>2</td>\n",
              "      <td>1</td>\n",
              "    </tr>\n",
              "  </tbody>\n",
              "</table>\n",
              "</div>"
            ],
            "text/plain": [
              "      id  gender   age  ...        bmi  smoking_status  stroke\n",
              "0   9046       1  67.0  ...  36.600000               1       1\n",
              "1  51676       0  61.0  ...  28.893237               2       1\n",
              "2  31112       1  80.0  ...  32.500000               2       1\n",
              "3  60182       0  49.0  ...  34.400000               3       1\n",
              "4   1665       0  79.0  ...  24.000000               2       1\n",
              "\n",
              "[5 rows x 12 columns]"
            ]
          },
          "metadata": {
            "tags": []
          },
          "execution_count": 340
        }
      ]
    },
    {
      "cell_type": "markdown",
      "metadata": {
        "id": "G-_WXS7k1Xcg"
      },
      "source": [
        "Standard scalar"
      ]
    },
    {
      "cell_type": "code",
      "metadata": {
        "id": "r3G7Qk-91pzA"
      },
      "source": [
        "from sklearn.preprocessing import StandardScaler\r\n",
        "\r\n",
        "s=StandardScaler()\r\n",
        "columns = ['avg_glucose_level','bmi','age']\r\n",
        "stand_scaled = s.fit_transform(df[['avg_glucose_level','bmi','age']])\r\n",
        "stand_scaled = pd.DataFrame(stand_scaled,columns=columns)\r\n",
        "\r\n",
        "df=df.drop(columns=columns,axis=1)"
      ],
      "execution_count": 341,
      "outputs": []
    },
    {
      "cell_type": "code",
      "metadata": {
        "colab": {
          "base_uri": "https://localhost:8080/",
          "height": 202
        },
        "id": "PAc0SMs_2pjx",
        "outputId": "fe48ac13-682a-4dc4-c067-2086fbc8c1f0"
      },
      "source": [
        "stand_scaled.head()"
      ],
      "execution_count": 342,
      "outputs": [
        {
          "output_type": "execute_result",
          "data": {
            "text/html": [
              "<div>\n",
              "<style scoped>\n",
              "    .dataframe tbody tr th:only-of-type {\n",
              "        vertical-align: middle;\n",
              "    }\n",
              "\n",
              "    .dataframe tbody tr th {\n",
              "        vertical-align: top;\n",
              "    }\n",
              "\n",
              "    .dataframe thead th {\n",
              "        text-align: right;\n",
              "    }\n",
              "</style>\n",
              "<table border=\"1\" class=\"dataframe\">\n",
              "  <thead>\n",
              "    <tr style=\"text-align: right;\">\n",
              "      <th></th>\n",
              "      <th>avg_glucose_level</th>\n",
              "      <th>bmi</th>\n",
              "      <th>age</th>\n",
              "    </tr>\n",
              "  </thead>\n",
              "  <tbody>\n",
              "    <tr>\n",
              "      <th>0</th>\n",
              "      <td>2.706375</td>\n",
              "      <td>1.066746</td>\n",
              "      <td>1.051434</td>\n",
              "    </tr>\n",
              "    <tr>\n",
              "      <th>1</th>\n",
              "      <td>2.121559</td>\n",
              "      <td>0.013363</td>\n",
              "      <td>0.786070</td>\n",
              "    </tr>\n",
              "    <tr>\n",
              "      <th>2</th>\n",
              "      <td>-0.005028</td>\n",
              "      <td>0.506346</td>\n",
              "      <td>1.626390</td>\n",
              "    </tr>\n",
              "    <tr>\n",
              "      <th>3</th>\n",
              "      <td>1.437358</td>\n",
              "      <td>0.766044</td>\n",
              "      <td>0.255342</td>\n",
              "    </tr>\n",
              "    <tr>\n",
              "      <th>4</th>\n",
              "      <td>1.501184</td>\n",
              "      <td>-0.655458</td>\n",
              "      <td>1.582163</td>\n",
              "    </tr>\n",
              "  </tbody>\n",
              "</table>\n",
              "</div>"
            ],
            "text/plain": [
              "   avg_glucose_level       bmi       age\n",
              "0           2.706375  1.066746  1.051434\n",
              "1           2.121559  0.013363  0.786070\n",
              "2          -0.005028  0.506346  1.626390\n",
              "3           1.437358  0.766044  0.255342\n",
              "4           1.501184 -0.655458  1.582163"
            ]
          },
          "metadata": {
            "tags": []
          },
          "execution_count": 342
        }
      ]
    },
    {
      "cell_type": "code",
      "metadata": {
        "id": "aDeR2lNy2jV4"
      },
      "source": [
        "#Now add scaled to df"
      ],
      "execution_count": 343,
      "outputs": []
    },
    {
      "cell_type": "code",
      "metadata": {
        "colab": {
          "base_uri": "https://localhost:8080/",
          "height": 222
        },
        "id": "Ozt_Xian3-Yo",
        "outputId": "efcecb50-454a-4c38-cd26-775877c642d0"
      },
      "source": [
        "df = pd.concat([df, stand_scaled], axis=1)\r\n",
        "df.head(5)"
      ],
      "execution_count": 349,
      "outputs": [
        {
          "output_type": "execute_result",
          "data": {
            "text/html": [
              "<div>\n",
              "<style scoped>\n",
              "    .dataframe tbody tr th:only-of-type {\n",
              "        vertical-align: middle;\n",
              "    }\n",
              "\n",
              "    .dataframe tbody tr th {\n",
              "        vertical-align: top;\n",
              "    }\n",
              "\n",
              "    .dataframe thead th {\n",
              "        text-align: right;\n",
              "    }\n",
              "</style>\n",
              "<table border=\"1\" class=\"dataframe\">\n",
              "  <thead>\n",
              "    <tr style=\"text-align: right;\">\n",
              "      <th></th>\n",
              "      <th>id</th>\n",
              "      <th>gender</th>\n",
              "      <th>hypertension</th>\n",
              "      <th>heart_disease</th>\n",
              "      <th>ever_married</th>\n",
              "      <th>work_type</th>\n",
              "      <th>Residence_type</th>\n",
              "      <th>smoking_status</th>\n",
              "      <th>stroke</th>\n",
              "      <th>avg_glucose_level</th>\n",
              "      <th>bmi</th>\n",
              "      <th>age</th>\n",
              "    </tr>\n",
              "  </thead>\n",
              "  <tbody>\n",
              "    <tr>\n",
              "      <th>0</th>\n",
              "      <td>9046</td>\n",
              "      <td>1</td>\n",
              "      <td>0</td>\n",
              "      <td>1</td>\n",
              "      <td>1</td>\n",
              "      <td>2</td>\n",
              "      <td>1</td>\n",
              "      <td>1</td>\n",
              "      <td>1</td>\n",
              "      <td>2.706375</td>\n",
              "      <td>1.066746</td>\n",
              "      <td>1.051434</td>\n",
              "    </tr>\n",
              "    <tr>\n",
              "      <th>1</th>\n",
              "      <td>51676</td>\n",
              "      <td>0</td>\n",
              "      <td>0</td>\n",
              "      <td>0</td>\n",
              "      <td>1</td>\n",
              "      <td>3</td>\n",
              "      <td>0</td>\n",
              "      <td>2</td>\n",
              "      <td>1</td>\n",
              "      <td>2.121559</td>\n",
              "      <td>0.013363</td>\n",
              "      <td>0.786070</td>\n",
              "    </tr>\n",
              "    <tr>\n",
              "      <th>2</th>\n",
              "      <td>31112</td>\n",
              "      <td>1</td>\n",
              "      <td>0</td>\n",
              "      <td>1</td>\n",
              "      <td>1</td>\n",
              "      <td>2</td>\n",
              "      <td>0</td>\n",
              "      <td>2</td>\n",
              "      <td>1</td>\n",
              "      <td>-0.005028</td>\n",
              "      <td>0.506346</td>\n",
              "      <td>1.626390</td>\n",
              "    </tr>\n",
              "    <tr>\n",
              "      <th>3</th>\n",
              "      <td>60182</td>\n",
              "      <td>0</td>\n",
              "      <td>0</td>\n",
              "      <td>0</td>\n",
              "      <td>1</td>\n",
              "      <td>2</td>\n",
              "      <td>1</td>\n",
              "      <td>3</td>\n",
              "      <td>1</td>\n",
              "      <td>1.437358</td>\n",
              "      <td>0.766044</td>\n",
              "      <td>0.255342</td>\n",
              "    </tr>\n",
              "    <tr>\n",
              "      <th>4</th>\n",
              "      <td>1665</td>\n",
              "      <td>0</td>\n",
              "      <td>1</td>\n",
              "      <td>0</td>\n",
              "      <td>1</td>\n",
              "      <td>3</td>\n",
              "      <td>0</td>\n",
              "      <td>2</td>\n",
              "      <td>1</td>\n",
              "      <td>1.501184</td>\n",
              "      <td>-0.655458</td>\n",
              "      <td>1.582163</td>\n",
              "    </tr>\n",
              "  </tbody>\n",
              "</table>\n",
              "</div>"
            ],
            "text/plain": [
              "      id  gender  hypertension  ...  avg_glucose_level       bmi       age\n",
              "0   9046       1             0  ...           2.706375  1.066746  1.051434\n",
              "1  51676       0             0  ...           2.121559  0.013363  0.786070\n",
              "2  31112       1             0  ...          -0.005028  0.506346  1.626390\n",
              "3  60182       0             0  ...           1.437358  0.766044  0.255342\n",
              "4   1665       0             1  ...           1.501184 -0.655458  1.582163\n",
              "\n",
              "[5 rows x 12 columns]"
            ]
          },
          "metadata": {
            "tags": []
          },
          "execution_count": 349
        }
      ]
    },
    {
      "cell_type": "code",
      "metadata": {
        "id": "wj06OnNF4lYy"
      },
      "source": [
        "#lets drop id"
      ],
      "execution_count": 345,
      "outputs": []
    },
    {
      "cell_type": "code",
      "metadata": {
        "id": "m-DwMZ5S42aX"
      },
      "source": [
        "df=df.drop(columns='id',axis=1)"
      ],
      "execution_count": 350,
      "outputs": []
    },
    {
      "cell_type": "markdown",
      "metadata": {
        "id": "NM-_2R525JDp"
      },
      "source": [
        "#Modelling"
      ]
    },
    {
      "cell_type": "code",
      "metadata": {
        "id": "S5kvNUhq4_Cg"
      },
      "source": [
        "from sklearn.model_selection import train_test_split"
      ],
      "execution_count": 347,
      "outputs": []
    },
    {
      "cell_type": "code",
      "metadata": {
        "id": "4Cvd8U0v5AV1"
      },
      "source": [
        "X=df.drop(['stroke'], axis=1)\r\n",
        "y=df['stroke']"
      ],
      "execution_count": 352,
      "outputs": []
    },
    {
      "cell_type": "code",
      "metadata": {
        "id": "QhDLxLRZ5AYY"
      },
      "source": [
        "X_train,X_test,y_train,y_test = train_test_split(X, y, random_state = 0)"
      ],
      "execution_count": 353,
      "outputs": []
    },
    {
      "cell_type": "markdown",
      "metadata": {
        "id": "U7iPa4lS7uvt"
      },
      "source": [
        "Decision Tree"
      ]
    },
    {
      "cell_type": "code",
      "metadata": {
        "colab": {
          "base_uri": "https://localhost:8080/"
        },
        "id": "Bxh2UDX75Aar",
        "outputId": "4167caf4-af2a-4167-9bfe-fd7848d82db6"
      },
      "source": [
        "from sklearn.tree import DecisionTreeClassifier\r\n",
        "from sklearn.metrics import confusion_matrix, accuracy_score, classification_report\r\n",
        "\r\n",
        "X_train, X_test, y_train, y_test = train_test_split(X,y, test_size=0.3, random_state= 124)\r\n",
        "\r\n",
        "model= DecisionTreeClassifier()\r\n",
        "model.fit(X_train, y_train)"
      ],
      "execution_count": 369,
      "outputs": [
        {
          "output_type": "execute_result",
          "data": {
            "text/plain": [
              "DecisionTreeClassifier(ccp_alpha=0.0, class_weight=None, criterion='gini',\n",
              "                       max_depth=None, max_features=None, max_leaf_nodes=None,\n",
              "                       min_impurity_decrease=0.0, min_impurity_split=None,\n",
              "                       min_samples_leaf=1, min_samples_split=2,\n",
              "                       min_weight_fraction_leaf=0.0, presort='deprecated',\n",
              "                       random_state=None, splitter='best')"
            ]
          },
          "metadata": {
            "tags": []
          },
          "execution_count": 369
        }
      ]
    },
    {
      "cell_type": "code",
      "metadata": {
        "id": "FqJp5J6D5Adr"
      },
      "source": [
        "prediction = model.predict(X_test)"
      ],
      "execution_count": 371,
      "outputs": []
    },
    {
      "cell_type": "code",
      "metadata": {
        "colab": {
          "base_uri": "https://localhost:8080/"
        },
        "id": "H4HLP9vg8ARL",
        "outputId": "8538f699-7237-4bc5-cad4-c700abe52460"
      },
      "source": [
        "from sklearn.metrics import classification_report, confusion_matrix\r\n",
        "print (confusion_matrix(y_test, prediction))\r\n"
      ],
      "execution_count": 372,
      "outputs": [
        {
          "output_type": "stream",
          "text": [
            "[[1392   72]\n",
            " [  65    4]]\n"
          ],
          "name": "stdout"
        }
      ]
    },
    {
      "cell_type": "code",
      "metadata": {
        "colab": {
          "base_uri": "https://localhost:8080/"
        },
        "id": "V8wl5s3A8Cg2",
        "outputId": "f590175f-a99d-4b53-d282-3b7fc45770ba"
      },
      "source": [
        "print (classification_report (y_test, prediction))"
      ],
      "execution_count": 373,
      "outputs": [
        {
          "output_type": "stream",
          "text": [
            "              precision    recall  f1-score   support\n",
            "\n",
            "           0       0.96      0.95      0.95      1464\n",
            "           1       0.05      0.06      0.06        69\n",
            "\n",
            "    accuracy                           0.91      1533\n",
            "   macro avg       0.50      0.50      0.50      1533\n",
            "weighted avg       0.91      0.91      0.91      1533\n",
            "\n"
          ],
          "name": "stdout"
        }
      ]
    },
    {
      "cell_type": "code",
      "metadata": {
        "colab": {
          "base_uri": "https://localhost:8080/"
        },
        "id": "4EynbwKe8GP2",
        "outputId": "27b3b1db-6354-49ce-fd01-5464f108df46"
      },
      "source": [
        "from sklearn.metrics import accuracy_score\r\n",
        "accuracy_score(y_test, prediction)"
      ],
      "execution_count": 374,
      "outputs": [
        {
          "output_type": "execute_result",
          "data": {
            "text/plain": [
              "0.9106327462491846"
            ]
          },
          "metadata": {
            "tags": []
          },
          "execution_count": 374
        }
      ]
    },
    {
      "cell_type": "markdown",
      "metadata": {
        "id": "NQLjV1KH8oUd"
      },
      "source": [
        "logistic regression"
      ]
    },
    {
      "cell_type": "code",
      "metadata": {
        "colab": {
          "base_uri": "https://localhost:8080/"
        },
        "id": "pZqm0dn38paP",
        "outputId": "8248eeae-b318-43d2-9c17-da34cc45ac58"
      },
      "source": [
        "from sklearn.linear_model import LogisticRegression\r\n",
        "loj = LogisticRegression(solver = \"liblinear\")\r\n",
        "loj_model = loj.fit(X_train,y_train)\r\n",
        "loj_model"
      ],
      "execution_count": 363,
      "outputs": [
        {
          "output_type": "execute_result",
          "data": {
            "text/plain": [
              "LogisticRegression(C=1.0, class_weight=None, dual=False, fit_intercept=True,\n",
              "                   intercept_scaling=1, l1_ratio=None, max_iter=100,\n",
              "                   multi_class='auto', n_jobs=None, penalty='l2',\n",
              "                   random_state=None, solver='liblinear', tol=0.0001, verbose=0,\n",
              "                   warm_start=False)"
            ]
          },
          "metadata": {
            "tags": []
          },
          "execution_count": 363
        }
      ]
    },
    {
      "cell_type": "code",
      "metadata": {
        "id": "YdUyo2Fr8r-v"
      },
      "source": [
        "y_pred_loj = loj_model.predict(X_test)"
      ],
      "execution_count": 364,
      "outputs": []
    },
    {
      "cell_type": "code",
      "metadata": {
        "id": "Mm_VQ5eW8tuP"
      },
      "source": [
        "from sklearn.metrics import confusion_matrix, accuracy_score, classification_report"
      ],
      "execution_count": 365,
      "outputs": []
    },
    {
      "cell_type": "code",
      "metadata": {
        "colab": {
          "base_uri": "https://localhost:8080/"
        },
        "id": "ujd2_fBS8vSv",
        "outputId": "6e8acd0f-28d4-4f74-f6c6-bc501a822553"
      },
      "source": [
        "accuracy_score(y_test, y_pred_loj)"
      ],
      "execution_count": 366,
      "outputs": [
        {
          "output_type": "execute_result",
          "data": {
            "text/plain": [
              "0.954337899543379"
            ]
          },
          "metadata": {
            "tags": []
          },
          "execution_count": 366
        }
      ]
    },
    {
      "cell_type": "code",
      "metadata": {
        "colab": {
          "base_uri": "https://localhost:8080/"
        },
        "id": "39Rs85v58wu_",
        "outputId": "e17777b4-e684-4e0a-a555-611d790fc3d4"
      },
      "source": [
        "print(\"Training Accuracy :\", loj_model.score(X_train, y_train))\r\n",
        "print(\"Testing Accuracy :\", loj_model.score(X_test, y_test))"
      ],
      "execution_count": 367,
      "outputs": [
        {
          "output_type": "stream",
          "text": [
            "Training Accuracy : 0.9496785015376014\n",
            "Testing Accuracy : 0.954337899543379\n"
          ],
          "name": "stdout"
        }
      ]
    },
    {
      "cell_type": "code",
      "metadata": {
        "colab": {
          "base_uri": "https://localhost:8080/"
        },
        "id": "GAdWFvbV80d_",
        "outputId": "51aa4263-95d2-4f44-8f4d-884c5bf756d3"
      },
      "source": [
        "print(classification_report(y_test, y_pred_loj))"
      ],
      "execution_count": 376,
      "outputs": [
        {
          "output_type": "stream",
          "text": [
            "              precision    recall  f1-score   support\n",
            "\n",
            "           0       0.95      1.00      0.98      1464\n",
            "           1       0.00      0.00      0.00        69\n",
            "\n",
            "    accuracy                           0.95      1533\n",
            "   macro avg       0.48      0.50      0.49      1533\n",
            "weighted avg       0.91      0.95      0.93      1533\n",
            "\n"
          ],
          "name": "stdout"
        }
      ]
    },
    {
      "cell_type": "markdown",
      "metadata": {
        "id": "7nsmPrNX9vj7"
      },
      "source": [
        "XG Boost"
      ]
    },
    {
      "cell_type": "code",
      "metadata": {
        "id": "i0IoOp_v9y_o"
      },
      "source": [
        "from xgboost import XGBClassifier\r\n",
        "import xgboost as xgb\r\n",
        "xgb_model = XGBClassifier().fit(X_train, y_train)"
      ],
      "execution_count": 377,
      "outputs": []
    },
    {
      "cell_type": "code",
      "metadata": {
        "colab": {
          "base_uri": "https://localhost:8080/"
        },
        "id": "bx9De9fX9zL4",
        "outputId": "2048999d-431c-4a93-ce4e-1b6042b2a844"
      },
      "source": [
        "y_pred_xgb_model = xgb_model.predict(X_test)\r\n",
        "accuracy_score(y_test, y_pred_xgb_model)"
      ],
      "execution_count": 378,
      "outputs": [
        {
          "output_type": "execute_result",
          "data": {
            "text/plain": [
              "0.954337899543379"
            ]
          },
          "metadata": {
            "tags": []
          },
          "execution_count": 378
        }
      ]
    },
    {
      "cell_type": "code",
      "metadata": {
        "colab": {
          "base_uri": "https://localhost:8080/"
        },
        "id": "9tUrnASO922-",
        "outputId": "1f67c5e6-ea73-4f0d-c5cd-1a1aaf40137e"
      },
      "source": [
        "print(classification_report(y_test, y_pred_xgb_model))"
      ],
      "execution_count": 379,
      "outputs": [
        {
          "output_type": "stream",
          "text": [
            "              precision    recall  f1-score   support\n",
            "\n",
            "           0       0.95      1.00      0.98      1464\n",
            "           1       0.00      0.00      0.00        69\n",
            "\n",
            "    accuracy                           0.95      1533\n",
            "   macro avg       0.48      0.50      0.49      1533\n",
            "weighted avg       0.91      0.95      0.93      1533\n",
            "\n"
          ],
          "name": "stdout"
        }
      ]
    },
    {
      "cell_type": "code",
      "metadata": {
        "colab": {
          "base_uri": "https://localhost:8080/"
        },
        "id": "NeTax1fI94cV",
        "outputId": "17e7b305-195c-4a5e-8722-2ba1d248d393"
      },
      "source": [
        "print (confusion_matrix(y_test, y_pred_xgb_model))"
      ],
      "execution_count": 380,
      "outputs": [
        {
          "output_type": "stream",
          "text": [
            "[[1463    1]\n",
            " [  69    0]]\n"
          ],
          "name": "stdout"
        }
      ]
    },
    {
      "cell_type": "code",
      "metadata": {
        "id": "_QAzqMgo9_xO"
      },
      "source": [
        "from xgboost import XGBClassifier\r\n",
        "# Model Tuning\r\n",
        "XGB_model = XGBClassifier(random_state = 42, max_depth = 8, n_estimators = 3000, \r\n",
        "                          reg_lambda = 1.2, reg_alpha = 1.2, \r\n",
        "                          min_child_weight = 1,objective = 'binary:logistic',\r\n",
        "                         learning_rate = 0.15, gamma = 0.3, colsample_bytree = 0.5,\r\n",
        "                          eval_metric = 'auc').fit(X_train, y_train)"
      ],
      "execution_count": 381,
      "outputs": []
    },
    {
      "cell_type": "code",
      "metadata": {
        "colab": {
          "base_uri": "https://localhost:8080/"
        },
        "id": "kH0yHE6U-D1m",
        "outputId": "ca4c3eb8-4f2c-45dc-a428-21bd20d3a300"
      },
      "source": [
        "y_pred_XGB_model = XGB_model.predict(X_test)\r\n",
        "accuracy_score(y_test, y_pred_XGB_model)"
      ],
      "execution_count": 382,
      "outputs": [
        {
          "output_type": "execute_result",
          "data": {
            "text/plain": [
              "0.9478147423352903"
            ]
          },
          "metadata": {
            "tags": []
          },
          "execution_count": 382
        }
      ]
    },
    {
      "cell_type": "code",
      "metadata": {
        "colab": {
          "base_uri": "https://localhost:8080/"
        },
        "id": "Yq-irTKL-HQr",
        "outputId": "ac6d0d56-6b72-4d6a-e6e2-0ed60e4bffa0"
      },
      "source": [
        "print(classification_report(y_test, y_pred_XGB_model))"
      ],
      "execution_count": 383,
      "outputs": [
        {
          "output_type": "stream",
          "text": [
            "              precision    recall  f1-score   support\n",
            "\n",
            "           0       0.96      0.99      0.97      1464\n",
            "           1       0.13      0.03      0.05        69\n",
            "\n",
            "    accuracy                           0.95      1533\n",
            "   macro avg       0.54      0.51      0.51      1533\n",
            "weighted avg       0.92      0.95      0.93      1533\n",
            "\n"
          ],
          "name": "stdout"
        }
      ]
    },
    {
      "cell_type": "code",
      "metadata": {
        "colab": {
          "base_uri": "https://localhost:8080/"
        },
        "id": "VdFhPmX8-JC2",
        "outputId": "ac3327bc-f630-465c-8b23-55f9d256758d"
      },
      "source": [
        "models = [\r\n",
        "    model,\r\n",
        "    xgb_model,\r\n",
        "    loj_model,\r\n",
        "      \r\n",
        "]\r\n",
        "\r\n",
        "for model in models:\r\n",
        "    names = model.__class__.__name__\r\n",
        "    y_pred = model.predict(X_test)\r\n",
        "    accuracy = accuracy_score(y_test, y_pred)\r\n",
        "    print(\"-\"*28)\r\n",
        "    print(names + \":\" )\r\n",
        "    print(\"Accuracy: {:.4%}\".format(accuracy))"
      ],
      "execution_count": 384,
      "outputs": [
        {
          "output_type": "stream",
          "text": [
            "----------------------------\n",
            "DecisionTreeClassifier:\n",
            "Accuracy: 91.0633%\n",
            "----------------------------\n",
            "XGBClassifier:\n",
            "Accuracy: 95.4338%\n",
            "----------------------------\n",
            "LogisticRegression:\n",
            "Accuracy: 95.4338%\n"
          ],
          "name": "stdout"
        }
      ]
    },
    {
      "cell_type": "code",
      "metadata": {
        "id": "C0c9-0M0-gVw"
      },
      "source": [
        ""
      ],
      "execution_count": null,
      "outputs": []
    }
  ]
}